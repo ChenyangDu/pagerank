{
 "cells": [
  {
   "cell_type": "markdown",
   "metadata": {},
   "source": [
    "\n",
    "### 生成有向图数据"
   ]
  },
  {
   "cell_type": "code",
   "execution_count": 1,
   "metadata": {},
   "outputs": [
    {
     "name": "stdout",
     "output_type": "stream",
     "text": [
      "create graph time: 0.000988006591796875\n",
      "cal pr time: 0.07011294364929199\n",
      "total time is : 0.07222604751586914\n"
     ]
    }
   ],
   "source": [
    "import os\n",
    "import json\n",
    "import time\n",
    "import networkx as nx\n",
    "import matplotlib.pyplot as plt\n",
    "import math\n",
    "import random\n",
    "random.seed(9)\n",
    "\n",
    "\n",
    "node_num = 10  # 网页节点个数\n",
    "edge_num = node_num * 10  # 边的个数，默认按平均每个网页10条边设置\n",
    "max_selfcycle = int(node_num * 0.2) # 限制自环的数量\n",
    "cur_selfcycle = 0\n",
    "save_dir = f'./data/n{node_num}'\n",
    "os.makedirs(save_dir, exist_ok=True)\n",
    "\n",
    "node_pairs = []\n",
    "Graph = nx.DiGraph()\n",
    "t1 = time.time()\n",
    "Graph.add_nodes_from(range(0, node_num))\n",
    "for i in range(edge_num):\n",
    "    j = random.randint(0, node_num-1)  \n",
    "    k = random.randint(0, node_num-1)\n",
    "\n",
    "    # 限制自环数量\n",
    "    if j == k:\n",
    "        cur_selfcycle += 1\n",
    "        if cur_selfcycle > max_selfcycle:\n",
    "            continue\n",
    "       \n",
    "    Graph.add_edge(k, j)\n",
    "    node_pairs.append((k, j))\n",
    "\n",
    "# 消除重边\n",
    "node_pairs = list(set(node_pairs))\n",
    "\n",
    "# 边排序\n",
    "node_pairs.sort(key=lambda x:x[0])\n",
    "print(\"create graph time:\", time.time()-t1)\n",
    "# 绘制（非常耗时）\n",
    "t2 = time.time()\n",
    "# nx.draw(Graph, with_labels=True)\n",
    "# plt.show()\n",
    "# print(\"draw grath time:\", time.time()-t2)\n",
    "\n",
    "# 计算 pr\n",
    "t3 = time.time()\n",
    "pr = nx.pagerank(Graph, max_iter=100, alpha=0.85)\n",
    "# print(pr)\n",
    "print(\"cal pr time:\", time.time()-t3)\n",
    "\n",
    "with open(os.path.join(save_dir, f\"edges_n{node_num}_e{len(node_pairs)}.txt\"), \"w\") as f:\n",
    "    f.write(\"{}\\n\".format(node_num))\n",
    "    for edge in node_pairs:\n",
    "        f.write(\"{} {}\\n\".format(edge[0], edge[1]))\n",
    "\n",
    "with open(os.path.join(save_dir, f\"pr_val_n{node_num}_e{len(node_pairs)}.json\"), \"w\") as f:\n",
    "    json.dump(pr, f)\n",
    "\n",
    "print(\"total time is :\", time.time() - t1)\n",
    "\n"
   ]
  },
  {
   "cell_type": "markdown",
   "metadata": {},
   "source": [
    "### 邻接表进行小数据验证"
   ]
  },
  {
   "cell_type": "code",
   "execution_count": 4,
   "metadata": {},
   "outputs": [
    {
     "data": {
      "image/png": "[encoded data removed]",
      "text/plain": [
       "<Figure size 432x288 with 1 Axes>"
      ]
     },
     "metadata": {},
     "output_type": "display_data"
    },
    {
     "name": "stdout",
     "output_type": "stream",
     "text": [
      "{0: 0.32456160227748454, 1: 0.17543839772251532, 2: 0.32456160227748454, 3: 0.17543839772251532}\n"
     ]
    }
   ],
   "source": [
    "# 视频中的 Demo \n",
    "import numpy as np\n",
    "# 邻接矩阵（网页有向图），因为没有自环所以不存在 spider traps\n",
    "A = np.array([[0, 0, 1, 1],\n",
    "            [1, 0, 0, 0],\n",
    "            [1, 1, 0, 0],\n",
    "            [0, 0, 1, 0],\n",
    "            ])\n",
    "\n",
    "import networkx as nx\n",
    "import matplotlib.pyplot as plt\n",
    "Graph = nx.DiGraph()\n",
    "Graph.add_nodes_from(range(0, 4))\n",
    "\n",
    "for row in range(A.shape[0]):\n",
    "    for col in range(A.shape[1]):\n",
    "        if A[row, col] != 0:\n",
    "            Graph.add_edge(col, row)\n",
    "\n",
    "nx.draw(Graph, with_labels=True)\n",
    "plt.show()\n",
    "\n",
    "pr = nx.pagerank(Graph, max_iter=100, alpha=0.85)\n",
    "print(pr)"
   ]
  },
  {
   "cell_type": "code",
   "execution_count": null,
   "metadata": {},
   "outputs": [],
   "source": []
  }
 ],
 "metadata": {
  "kernelspec": {
   "display_name": "Python 3.7.13 ('py37')",
   "language": "python",
   "name": "python3"
  },
  "language_info": {
   "codemirror_mode": {
    "name": "ipython",
    "version": 3
   },
   "file_extension": ".py",
   "mimetype": "text/x-python",
   "name": "python",
   "nbconvert_exporter": "python",
   "pygments_lexer": "ipython3",
   "version": "3.7.13"
  },
  "orig_nbformat": 4,
  "vscode": {
   "interpreter": {
    "hash": "a45d2321d829eb7f9b9db1a0c8b501085a483c1242d336e5633caa45a42a52d5"
   }
  }
 },
 "nbformat": 4,
 "nbformat_minor": 2
}
